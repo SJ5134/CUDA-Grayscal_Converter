# Install required packages
!apt update &> /dev/null
!apt install -y libopencv-dev &> /dev/null
!pip install opencv-python matplotlib &> /dev/null

# Create directory structure
import os
import cv2
import numpy as np
from google.colab import files
import matplotlib.pyplot as plt
import torch
import time

os.makedirs('data/input', exist_ok=True)
os.makedirs('data/output', exist_ok=True)

print("Directory structure created")

# Upload images
print("Upload your images (multiple selection supported):")
uploaded = files.upload()

# Move uploaded images to input directory
for filename in uploaded.keys():
    os.rename(filename, f'data/input/{filename}')
    print(f"Moved {filename} to data/input/")

print(f"Total images in input directory: {len(os.listdir('data/input'))}")

# Check CUDA
print(f"CUDA available: {torch.cuda.is_available()}")
if torch.cuda.is_available():
    print(f"GPU: {torch.cuda.get_device_name(0)}")

# PyTorch CUDA Grayscale Converter
class TorchGrayscaleConverter:
    def __init__(self):
        self.device = torch.device('cuda' if torch.cuda.is_available() else 'cpu')
        print(f"Using device: {self.device}")
    
    def convert_image(self, image_path, output_path):
        """Convert single image to grayscale using PyTorch CUDA"""
        # Read image
        image = cv2.imread(image_path)
        if image is None:
            print(f"Could not read image: {image_path}")
            return False
            
        # Convert BGR to RGB
        image_rgb = cv2.cvtColor(image, cv2.COLOR_BGR2RGB)
        height, width, channels = image_rgb.shape
        
        # Convert to PyTorch tensor and move to GPU
        image_tensor = torch.from_numpy(image_rgb).float().to(self.device)
        
        # Grayscale conversion on GPU
        # Using standard weights: 0.299 * R + 0.587 * G + 0.114 * B
        grayscale_tensor = (image_tensor[:,:,0] * 0.299 + 
                          image_tensor[:,:,1] * 0.587 + 
                          image_tensor[:,:,2] * 0.114)
        
        # Convert back to CPU and numpy
        grayscale_np = grayscale_tensor.cpu().numpy().astype(np.uint8)
        
        # Save the result
        cv2.imwrite(output_path, grayscale_np)
        return True
    
    def convert_batch(self, input_dir, output_dir):
        """Convert all images in input directory to grayscale"""
        image_files = [f for f in os.listdir(input_dir) 
                      if f.lower().endswith(('.png', '.jpg', '.jpeg', '.bmp'))]
        
        if not image_files:
            print("No image files found in input directory")
            return 0
            
        print(f"Processing {len(image_files)} images...")
        
        successful = 0
        start_time = time.time()
        
        for filename in image_files:
            input_path = os.path.join(input_dir, filename)
            name, ext = os.path.splitext(filename)
            output_path = os.path.join(output_dir, f"grayscale_{name}.png")
            
            if self.convert_image(input_path, output_path):
                successful += 1
                print(f"Converted: {filename}")
        
        end_time = time.time()
        processing_time = end_time - start_time
        
        print(f"\nBatch processing complete!")
        print(f"Successful conversions: {successful}/{len(image_files)}")
        print(f"Total processing time: {processing_time:.2f} seconds")
        
        return successful

# Initialize and run
print("Initializing CUDA Grayscale Converter...")
converter = TorchGrayscaleConverter()

print("Starting batch grayscale conversion...")
successful = converter.convert_batch('data/input', 'data/output')

# Display results
print(f"\nResults:")
print(f"Input images: {len(os.listdir('data/input'))}")
print(f"Successful conversions: {successful}")

# Show before/after comparison
def show_comparison():
    input_files = os.listdir('data/input')
    if not input_files:
        return
        
    filename = input_files[0]  # Show first image
    input_path = f'data/input/{filename}'
    name, ext = os.path.splitext(filename)
    output_path = f'data/output/grayscale_{name}.png'
    
    # Load images
    original = cv2.imread(input_path)
    original = cv2.cvtColor(original, cv2.COLOR_BGR2RGB)
    grayscale = cv2.imread(output_path)
    
    # Display
    fig, (ax1, ax2) = plt.subplots(1, 2, figsize=(10, 4))
    ax1.imshow(original)
    ax1.set_title('Original Image')
    ax1.axis('off')
    
    ax2.imshow(grayscale, cmap='gray')
    ax2.set_title('Grayscale (CUDA)')
    ax2.axis('off')
    
    plt.tight_layout()
    plt.show()

print("\nBefore/After Comparison:")
show_comparison()

# Create download package
!zip -r grayscale_results.zip data/output/ > /dev/null 2>&1
print("\nDownload your results:")
files.download('grayscale_results.zip')

print("\nProject completed successfully!")
